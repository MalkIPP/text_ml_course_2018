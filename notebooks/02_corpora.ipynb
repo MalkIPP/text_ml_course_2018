{
 "cells": [
  {
   "cell_type": "code",
   "execution_count": 1,
   "metadata": {},
   "outputs": [],
   "source": [
    "# set this to your working directory\n",
    "WORKING_DIR = '/home/elliott/Dropbox/_Ash_Teaching/2018-09 - Bocconi - Text Data and ML/code'\n",
    "import os\n",
    "os.chdir(WORKING_DIR) # set working directory \n"
   ]
  },
  {
   "cell_type": "code",
   "execution_count": 3,
   "metadata": {},
   "outputs": [
    {
     "data": {
      "text/html": [
       "<div>\n",
       "<style scoped>\n",
       "    .dataframe tbody tr th:only-of-type {\n",
       "        vertical-align: middle;\n",
       "    }\n",
       "\n",
       "    .dataframe tbody tr th {\n",
       "        vertical-align: top;\n",
       "    }\n",
       "\n",
       "    .dataframe thead th {\n",
       "        text-align: right;\n",
       "    }\n",
       "</style>\n",
       "<table border=\"1\" class=\"dataframe\">\n",
       "  <thead>\n",
       "    <tr style=\"text-align: right;\">\n",
       "      <th></th>\n",
       "      <th>Unnamed: 0</th>\n",
       "      <th>author_id</th>\n",
       "      <th>caseName</th>\n",
       "      <th>citeCount</th>\n",
       "      <th>cluster_id</th>\n",
       "      <th>court_id</th>\n",
       "      <th>dateFiled</th>\n",
       "      <th>snippet</th>\n",
       "      <th>state</th>\n",
       "      <th>year</th>\n",
       "    </tr>\n",
       "  </thead>\n",
       "  <tbody>\n",
       "    <tr>\n",
       "      <th>0</th>\n",
       "      <td>0</td>\n",
       "      <td>NaN</td>\n",
       "      <td>In Re Waiver of Death Penalty</td>\n",
       "      <td>8</td>\n",
       "      <td>1923143</td>\n",
       "      <td>nj</td>\n",
       "      <td>1965-09-14T00:00:00Z</td>\n",
       "      <td>N.J.   ( )\\n  A. d  \\nIN RE WAIVER OF DEATH PE...</td>\n",
       "      <td>NJ</td>\n",
       "      <td>1965</td>\n",
       "    </tr>\n",
       "    <tr>\n",
       "      <th>1</th>\n",
       "      <td>1</td>\n",
       "      <td>4019.0</td>\n",
       "      <td>State v. Dixon</td>\n",
       "      <td>552</td>\n",
       "      <td>1876220</td>\n",
       "      <td>fla</td>\n",
       "      <td>1973-07-26T00:00:00Z</td>\n",
       "      <td>whether the death penalty is, per se, unconsti...</td>\n",
       "      <td>FL</td>\n",
       "      <td>1973</td>\n",
       "    </tr>\n",
       "    <tr>\n",
       "      <th>2</th>\n",
       "      <td>2</td>\n",
       "      <td>5765.0</td>\n",
       "      <td>Jurek v. State</td>\n",
       "      <td>143</td>\n",
       "      <td>2450978</td>\n",
       "      <td>texcrimapp</td>\n",
       "      <td>1975-04-16T00:00:00Z</td>\n",
       "      <td># ;s contention that the assessment of the dea...</td>\n",
       "      <td>TX</td>\n",
       "      <td>1975</td>\n",
       "    </tr>\n",
       "    <tr>\n",
       "      <th>3</th>\n",
       "      <td>3</td>\n",
       "      <td>NaN</td>\n",
       "      <td>In the Matter of Death Penalty Sentencing</td>\n",
       "      <td>0</td>\n",
       "      <td>891563</td>\n",
       "      <td>nm</td>\n",
       "      <td>2009-11-30T00:00:00Z</td>\n",
       "      <td>. d   ( )\\n -NMSC- \\nIN THE MATTER OF DEATH PE...</td>\n",
       "      <td>NM</td>\n",
       "      <td>2009</td>\n",
       "    </tr>\n",
       "    <tr>\n",
       "      <th>4</th>\n",
       "      <td>4</td>\n",
       "      <td>5758.0</td>\n",
       "      <td>Ex Parte Traxler</td>\n",
       "      <td>56</td>\n",
       "      <td>4162563</td>\n",
       "      <td>texcrimapp</td>\n",
       "      <td>1944-12-20T00:00:00Z</td>\n",
       "      <td>assume the district attorney orally waived the...</td>\n",
       "      <td>TX</td>\n",
       "      <td>1944</td>\n",
       "    </tr>\n",
       "  </tbody>\n",
       "</table>\n",
       "</div>"
      ],
      "text/plain": [
       "   Unnamed: 0  author_id                                   caseName  \\\n",
       "0           0        NaN              In Re Waiver of Death Penalty   \n",
       "1           1     4019.0                             State v. Dixon   \n",
       "2           2     5765.0                             Jurek v. State   \n",
       "3           3        NaN  In the Matter of Death Penalty Sentencing   \n",
       "4           4     5758.0                           Ex Parte Traxler   \n",
       "\n",
       "   citeCount  cluster_id    court_id             dateFiled  \\\n",
       "0          8     1923143          nj  1965-09-14T00:00:00Z   \n",
       "1        552     1876220         fla  1973-07-26T00:00:00Z   \n",
       "2        143     2450978  texcrimapp  1975-04-16T00:00:00Z   \n",
       "3          0      891563          nm  2009-11-30T00:00:00Z   \n",
       "4         56     4162563  texcrimapp  1944-12-20T00:00:00Z   \n",
       "\n",
       "                                             snippet state  year  \n",
       "0  N.J.   ( )\\n  A. d  \\nIN RE WAIVER OF DEATH PE...    NJ  1965  \n",
       "1  whether the death penalty is, per se, unconsti...    FL  1973  \n",
       "2  # ;s contention that the assessment of the dea...    TX  1975  \n",
       "3  . d   ( )\\n -NMSC- \\nIN THE MATTER OF DEATH PE...    NM  2009  \n",
       "4  assume the district attorney orally waived the...    TX  1944  "
      ]
     },
     "execution_count": 3,
     "metadata": {},
     "output_type": "execute_result"
    }
   ],
   "source": [
    "# Pandas Data-frames\n",
    "\n",
    "# open dataset\n",
    "import pandas as pd\n",
    "df1 = pd.read_csv('death-penalty-cases.csv')\n",
    "df1.head() # show top few lines of data"
   ]
  },
  {
   "cell_type": "code",
   "execution_count": 4,
   "metadata": {},
   "outputs": [
    {
     "name": "stdout",
     "output_type": "stream",
     "text": [
      "<class 'pandas.core.frame.DataFrame'>\n",
      "RangeIndex: 32567 entries, 0 to 32566\n",
      "Data columns (total 10 columns):\n",
      "Unnamed: 0    32567 non-null int64\n",
      "author_id     18215 non-null float64\n",
      "caseName      32567 non-null object\n",
      "citeCount     32567 non-null int64\n",
      "cluster_id    32567 non-null int64\n",
      "court_id      32567 non-null object\n",
      "dateFiled     32567 non-null object\n",
      "snippet       32567 non-null object\n",
      "state         32567 non-null object\n",
      "year          32567 non-null int64\n",
      "dtypes: float64(1), int64(4), object(5)\n",
      "memory usage: 2.5+ MB\n"
     ]
    }
   ],
   "source": [
    "df1.info() "
   ]
  },
  {
   "cell_type": "code",
   "execution_count": 5,
   "metadata": {},
   "outputs": [
    {
     "data": {
      "text/plain": [
       "texapp             2577\n",
       "texcrimapp         2380\n",
       "fla                1927\n",
       "cal                1310\n",
       "ga                 1104\n",
       "illappct           1077\n",
       "pa                  930\n",
       "miss                925\n",
       "ill                 895\n",
       "oklacrimapp         760\n",
       "nc                  731\n",
       "tenncrimapp         723\n",
       "calctapp            723\n",
       "alacrimapp          711\n",
       "ohioctapp           611\n",
       "ariz                552\n",
       "wva                 545\n",
       "ind                 515\n",
       "la                  512\n",
       "mo                  507\n",
       "ark                 459\n",
       "nysd                390\n",
       "ala                 379\n",
       "tenn                368\n",
       "fladistctapp        359\n",
       "nyed                325\n",
       "sc                  323\n",
       "nev                 294\n",
       "pasuperct           291\n",
       "wash                272\n",
       "                   ... \n",
       "iasd                  7\n",
       "akd                   6\n",
       "lamd                  6\n",
       "wyd                   6\n",
       "connsuperct           6\n",
       "vid                   5\n",
       "oked                  5\n",
       "oklaag                5\n",
       "wiwd                  4\n",
       "ilsd                  4\n",
       "arkag                 3\n",
       "moag                  3\n",
       "ndd                   3\n",
       "nyappdiv              3\n",
       "ohioctcl              3\n",
       "laag                  3\n",
       "nebctapp              3\n",
       "mdag                  3\n",
       "oknd                  3\n",
       "hawapp                2\n",
       "risuperct             2\n",
       "kanag                 1\n",
       "alacivapp             1\n",
       "coloag                1\n",
       "njch                  1\n",
       "nmid                  1\n",
       "southcarolinaed       1\n",
       "arwd                  1\n",
       "oklacivapp            1\n",
       "texreview             1\n",
       "Name: court_id, Length: 206, dtype: int64"
      ]
     },
     "execution_count": 5,
     "metadata": {},
     "output_type": "execute_result"
    }
   ],
   "source": [
    "df1['court_id'].value_counts()"
   ]
  },
  {
   "cell_type": "code",
   "execution_count": 6,
   "metadata": {},
   "outputs": [
    {
     "data": {
      "text/plain": [
       "array([[<matplotlib.axes._subplots.AxesSubplot object at 0x7f52a7110198>,\n",
       "        <matplotlib.axes._subplots.AxesSubplot object at 0x7f52a70f93c8>]], dtype=object)"
      ]
     },
     "execution_count": 6,
     "metadata": {},
     "output_type": "execute_result"
    },
    {
     "data": {
      "image/png": "[encoded data removed]",
      "text/plain": [
       "<matplotlib.figure.Figure at 0x7f52a5ff8438>"
      ]
     },
     "metadata": {},
     "output_type": "display_data"
    }
   ],
   "source": [
    "df1[['year','citeCount']].hist()\n"
   ]
  },
  {
   "cell_type": "code",
   "execution_count": 7,
   "metadata": {},
   "outputs": [],
   "source": [
    "###################################\n",
    "# Iterating over documents in a dataframe\n",
    "###################################\n",
    "\n",
    "from utils import process_document\n",
    "\n",
    "processed = {} # empty python dictionary for processed data\n",
    "# iterate over rows\n",
    "for i, row in df1.iterrows():\n",
    "    docid = row['cluster_id'] # get document identifier\n",
    "    text = row['snippet']     # get text snippet\n",
    "    document = process_document(text) # get sentences/tokens\n",
    "    processed[docid] = document # add to dictionary    "
   ]
  },
  {
   "cell_type": "code",
   "execution_count": 8,
   "metadata": {},
   "outputs": [],
   "source": [
    "###################################\n",
    "# Iterating over documents in text files\n",
    "###################################\n",
    "\n",
    "# select all files in your directory\n",
    "from glob import glob\n",
    "fnames = glob('contracts/*txt') # selects files using wildcards\n",
    "\n",
    "# iterate over files\n",
    "for fname in fnames:\n",
    "    docid = fname.split('/')[-1][:-4] # get docid from filename\n",
    "    text = open(fname).read() # read file as string\n",
    "    document = process_document(text) # get sentences/tokens\n",
    "    processed[docid] = document # add to dictionary\n",
    "    "
   ]
  },
  {
   "cell_type": "code",
   "execution_count": 9,
   "metadata": {},
   "outputs": [],
   "source": [
    "###################################\n",
    "# Saving data in python\n",
    "###################################\n",
    "\n",
    "# save as python pickle\n",
    "pd.to_pickle(processed, 'processed_corpus.pkl')\n"
   ]
  },
  {
   "cell_type": "code",
   "execution_count": null,
   "metadata": {},
   "outputs": [],
   "source": []
  }
 ],
 "metadata": {
  "kernelspec": {
   "display_name": "Python 3",
   "language": "python",
   "name": "python3"
  },
  "language_info": {
   "codemirror_mode": {
    "name": "ipython",
    "version": 3
   },
   "file_extension": ".py",
   "mimetype": "text/x-python",
   "name": "python",
   "nbconvert_exporter": "python",
   "pygments_lexer": "ipython3",
   "version": "3.6.3"
  }
 },
 "nbformat": 4,
 "nbformat_minor": 2
}
